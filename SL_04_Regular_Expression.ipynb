{
  "nbformat": 4,
  "nbformat_minor": 0,
  "metadata": {
    "colab": {
      "provenance": [],
      "include_colab_link": true
    },
    "kernelspec": {
      "name": "python3",
      "display_name": "Python 3"
    },
    "language_info": {
      "name": "python"
    },
    "accelerator": "GPU",
    "gpuClass": "standard"
  },
  "cells": [
    {
      "cell_type": "markdown",
      "metadata": {
        "id": "view-in-github",
        "colab_type": "text"
      },
      "source": [
        "<a href=\"https://colab.research.google.com/github/Robbysaidiii/MSIB_K2_AWANPINTAR/blob/main/SL_04_Regular_Expression.ipynb\" target=\"_parent\"><img src=\"https://colab.research.google.com/assets/colab-badge.svg\" alt=\"Open In Colab\"/></a>"
      ]
    },
    {
      "cell_type": "markdown",
      "source": [
        "## Regular Expression (Regex)\n",
        "> Library untuk pengenalan dan pengelolaan pola pada teks\n",
        ">\n",
        "\n",
        "Contoh implementasi:\n",
        "- Pola Email\n",
        "- Pola Nomor telepon\n",
        "- Pola url\n",
        "- Pola Nomor plat kendaraan bermotor\n",
        "- Menghilangkan karakter khusus pada teks\n",
        "- dll."
      ],
      "metadata": {
        "id": "V6uGozZv4e5K"
      }
    },
    {
      "cell_type": "markdown",
      "source": [
        "**Contoh Syntax dan Aturan-aturan pada class Regex**\n",
        "\n",
        "---\n",
        "Kelas Karakter\n",
        "---\n",
        "\n",
        "*   [ abc] = karakter a ,b atau c (kelas sederhana)\n",
        "*   [^abc] = kecuali karakter a ,b ,atau (negasi)\n",
        "*   [a-zA-Z] = karakter a sampai z huruf kecil , atau A sampai Z huruf besar ,(jarak)\n",
        "*   [a-z[x-y]] = karakter a sampai d ,atau m sampai p (a-xy-z : gabungan)\n",
        "*   [a-z0-9] = karakter a sampai z ,atau angka dari 0 sampai 9\n",
        "*   [a-z&&[^bc] = karakter a sampi z, kecuali untuk b dan c.\n",
        "\n",
        "---\n",
        "Meta Karakter\n",
        "---\n",
        "*   . = tanda titik ,yang berarti karakter apa saja\n",
        "*   \\d = angka digit apa saja:, seperti [0-9]\n",
        "*   \\D = selain angka digit : [^0-9]\n",
        "*   \\s = sebuah spasi pada kaarkter, seperti [ \\t\\n\\x0B\\f\\r]\n",
        "*   \\S = selain spasi pada karakter: [^\\s]\n",
        "*   \\w = huruf dan angka apa saja ,seperti [a-zA-Z_0-9]\n",
        "*   \\W = selain angka dan huruf ,[\\w]\n",
        "\n",
        "---\n",
        "Batasan Kecocokan Karakter\n",
        "---\n",
        "*   ^ = tanda awalan\n",
        "*   $ = tanda akhiran\n",
        "*   \\b = batasan kecocokan kata\n",
        "*   \\B = batasan kecocokan selain kata\n",
        "*   \\A = awalan untuk input text\n",
        "*   \\G = akhir dari kecocokan sebelumnya\n",
        "*   \\Z = akhir dari input text, kecuali final terminator jika ada\n",
        "*   \\z = akhir dari input text\n"
      ],
      "metadata": {
        "id": "oAlARrGQ4l-k"
      }
    },
    {
      "cell_type": "code",
      "execution_count": 1,
      "metadata": {
        "id": "I1d9WoQ54eD_"
      },
      "outputs": [],
      "source": [
        "# Import Library Regex (re)\n",
        "import re\n",
        "\n",
        "# Pola Email\n",
        "email_pattern = re.compile(r'[\\w._%+-]+@[\\w\\.-]+\\.[a-zA-Z]{2,4}')\n",
        "txt = 'Contact kami di admin@thenextyunikorn.id, sales@yunikornbaru.com, atau hrd@yunikornindo.id'\n",
        "\n"
      ]
    },
    {
      "cell_type": "code",
      "source": [
        "txt"
      ],
      "metadata": {
        "colab": {
          "base_uri": "https://localhost:8080/",
          "height": 36
        },
        "id": "8tohi4k44f33",
        "outputId": "d2a2e772-439b-417d-b131-6f4004112328"
      },
      "execution_count": 2,
      "outputs": [
        {
          "output_type": "execute_result",
          "data": {
            "text/plain": [
              "'Contact kami di admin@thenextyunikorn.id, sales@yunikornbaru.com, atau hrd@yunikornindo.id'"
            ],
            "application/vnd.google.colaboratory.intrinsic+json": {
              "type": "string"
            }
          },
          "metadata": {},
          "execution_count": 2
        }
      ]
    },
    {
      "cell_type": "markdown",
      "source": [
        "### Pola Email"
      ],
      "metadata": {
        "id": "eL7ag9IU5UEt"
      }
    },
    {
      "cell_type": "code",
      "source": [
        "# Menghapus Email dalam teks\n",
        "print( re.sub(email_pattern, ' ', txt))"
      ],
      "metadata": {
        "colab": {
          "base_uri": "https://localhost:8080/"
        },
        "id": "dz1D6cCR5NsP",
        "outputId": "89fa2cf6-bd72-492b-9a51-85780d92f72b"
      },
      "execution_count": 3,
      "outputs": [
        {
          "output_type": "stream",
          "name": "stdout",
          "text": [
            "Contact kami di  ,  , atau  \n"
          ]
        }
      ]
    },
    {
      "cell_type": "code",
      "source": [
        "# Mengambil email dari teks berdasarkan pola regex yang ditentukan\n",
        "emails = re.findall(email_pattern, txt)\n",
        "print( 'Email yang ditemukan: ', emails)"
      ],
      "metadata": {
        "colab": {
          "base_uri": "https://localhost:8080/"
        },
        "id": "0hgD0Vj25XKP",
        "outputId": "b4dfde1d-a944-4a74-927d-6b6ef8fa24bf"
      },
      "execution_count": 4,
      "outputs": [
        {
          "output_type": "stream",
          "name": "stdout",
          "text": [
            "Email yang ditemukan:  ['admin@thenextyunikorn.id', 'sales@yunikornbaru.com', 'hrd@yunikornindo.id']\n"
          ]
        }
      ]
    },
    {
      "cell_type": "markdown",
      "source": [
        "### Pola Nomor Telepon"
      ],
      "metadata": {
        "id": "EftUKvWl5iwt"
      }
    },
    {
      "cell_type": "code",
      "source": [
        "# Pola telephone : \\d penanda angka di reguler Expression, \\s spasi, dan \"|\" adalah \"atau\"\n",
        "# \"?\" menyatakan pilihan (optional)\n",
        "phone_pattern = re.compile(r'(\\d{3}[-\\.\\s]??\\d{3}[-\\.\\s]??\\d{4,6}|\\(\\d{3}\\)\\s*\\d{3}[-\\.\\s]??\\d{4,6}|\\d{3,4}[-\\.\\s]??\\d{4,6})')\n",
        "txt = 'Contact kami di 021-7632456 atau 021-443-4162 atau 021 797 4524 atau 0822959020 atau +628199258643'"
      ],
      "metadata": {
        "id": "5uLcON-Z5Z3X"
      },
      "execution_count": 5,
      "outputs": []
    },
    {
      "cell_type": "code",
      "source": [
        "# Sensor *** untuk pola Nomor Telepon\n",
        "print(re.sub(phone_pattern,'***',txt))"
      ],
      "metadata": {
        "colab": {
          "base_uri": "https://localhost:8080/"
        },
        "id": "I3EyrkQJ5lyt",
        "outputId": "99198e8c-fdf5-4640-99cc-73ff1133629e"
      },
      "execution_count": 6,
      "outputs": [
        {
          "output_type": "stream",
          "name": "stdout",
          "text": [
            "Contact kami di *** atau *** atau *** atau *** atau +***\n"
          ]
        }
      ]
    },
    {
      "cell_type": "code",
      "source": [
        "# Mengambil nomor telepon dari teks berdasarkan pola regex yang telah ditentukan\n",
        "phone_numbers = re.findall(phone_pattern,txt)\n",
        "print('Nomer telephone yang ditemukan: ', str(phone_numbers))"
      ],
      "metadata": {
        "colab": {
          "base_uri": "https://localhost:8080/"
        },
        "id": "7JRvMScm5ocU",
        "outputId": "aeafcd7e-621e-468f-f73a-508146c29278"
      },
      "execution_count": 7,
      "outputs": [
        {
          "output_type": "stream",
          "name": "stdout",
          "text": [
            "Nomer telephone yang ditemukan:  ['021-7632456', '021-443-4162', '021 797 4524', '0822959020', '628199258643']\n"
          ]
        }
      ]
    },
    {
      "cell_type": "markdown",
      "source": [
        "###Pola URL atau Link"
      ],
      "metadata": {
        "id": "QX0TdMCy51Jo"
      }
    },
    {
      "cell_type": "code",
      "source": [
        "# Website URL http(s)\n",
        "url_pattern = re.compile(r'www|http:|https:+[^\\s]+[\\w]')\n",
        "txt = 'Teman teman dapat mengunjungi link berikut untuk sumber belajar: https://www.regular-expressions.info/ atau https://www.towardsdatascience.com atau https://wikipedia.org'\n"
      ],
      "metadata": {
        "id": "h4RUWsQ-5wvM"
      },
      "execution_count": 8,
      "outputs": []
    },
    {
      "cell_type": "code",
      "source": [
        "# Menghapus url pada teks\n",
        "print(re.sub(url_pattern,' ',txt))"
      ],
      "metadata": {
        "colab": {
          "base_uri": "https://localhost:8080/"
        },
        "id": "6VPaWUE856EM",
        "outputId": "80276716-7b2c-45f2-81ab-c6a044908495"
      },
      "execution_count": 9,
      "outputs": [
        {
          "output_type": "stream",
          "name": "stdout",
          "text": [
            "Teman teman dapat mengunjungi link berikut untuk sumber belajar:  / atau   atau  \n"
          ]
        }
      ]
    },
    {
      "cell_type": "code",
      "source": [
        "# Mengambil url dari teks berdasarkan pola regex yang telah ditentukan\n",
        "urls = re.findall(url_pattern,txt)# get urls\n",
        "print('URL yang ditemukan: ',str(urls))"
      ],
      "metadata": {
        "colab": {
          "base_uri": "https://localhost:8080/"
        },
        "id": "dNG7stdk58W4",
        "outputId": "9f54d279-0e0a-40c8-8be8-1231a35532e4"
      },
      "execution_count": 10,
      "outputs": [
        {
          "output_type": "stream",
          "name": "stdout",
          "text": [
            "URL yang ditemukan:  ['https://www.regular-expressions.info', 'https://www.towardsdatascience.com', 'https://wikipedia.org']\n"
          ]
        }
      ]
    },
    {
      "cell_type": "markdown",
      "source": [
        "### Pola Plat Kendaraan Bermotor"
      ],
      "metadata": {
        "id": "LNiEbH3S6CN7"
      }
    },
    {
      "cell_type": "code",
      "source": [
        "plat_pattern = re.compile(r'[A-Z]{1,2}\\s\\d{1,4}\\s[A-Z]{1,3}')\n",
        "text = \"Mr.X punya 2 motor dan 1 mobil. Adapun plat nomornya yaitu B 234 AA, C 3244 YGS, dan D 3 S.\""
      ],
      "metadata": {
        "id": "s4QddXbx5-iJ"
      },
      "execution_count": 11,
      "outputs": []
    },
    {
      "cell_type": "code",
      "source": [
        "# Menghapus plat kendaraan pada teks\n",
        "print(re.sub(plat_pattern, ' ', text))"
      ],
      "metadata": {
        "colab": {
          "base_uri": "https://localhost:8080/"
        },
        "id": "OFNIAGqK6GD_",
        "outputId": "433aba3f-8409-4b58-cd39-9955017195c9"
      },
      "execution_count": 12,
      "outputs": [
        {
          "output_type": "stream",
          "name": "stdout",
          "text": [
            "Mr.X punya 2 motor dan 1 mobil. Adapun plat nomornya yaitu  ,  , dan  .\n"
          ]
        }
      ]
    },
    {
      "cell_type": "code",
      "source": [
        "kumpulan_plat_kendaraan = re.findall(plat_pattern, text)\n",
        "print(kumpulan_plat_kendaraan)"
      ],
      "metadata": {
        "colab": {
          "base_uri": "https://localhost:8080/"
        },
        "id": "hKLvdOf86Ia0",
        "outputId": "d2be7551-e9cb-4d26-9fd2-48e266a49d4a"
      },
      "execution_count": 13,
      "outputs": [
        {
          "output_type": "stream",
          "name": "stdout",
          "text": [
            "['B 234 AA', 'C 3244 YGS', 'D 3 S']\n"
          ]
        }
      ]
    },
    {
      "cell_type": "markdown",
      "source": [
        "### Menghilangkan Karakter Khusus"
      ],
      "metadata": {
        "id": "dko-Vzwk6RmO"
      }
    },
    {
      "cell_type": "code",
      "source": [
        "text = \"Halo @Orbit, apa kabar? #SapaKawan.\"\n",
        "result = re.sub(r'[@,.?#]', '', text)\n",
        "print(result)"
      ],
      "metadata": {
        "colab": {
          "base_uri": "https://localhost:8080/"
        },
        "id": "cQx-_U-m6LLV",
        "outputId": "9396fc34-e002-4ef9-fb49-f14bdde7b5c0"
      },
      "execution_count": 14,
      "outputs": [
        {
          "output_type": "stream",
          "name": "stdout",
          "text": [
            "Halo Orbit apa kabar SapaKawan\n"
          ]
        }
      ]
    },
    {
      "cell_type": "markdown",
      "source": [
        "##Buat dipelajari tidak usah dikumpulkan!\n",
        "##FYI: **Just challenge ur knowledge**\n",
        "## Self-Activity 1\n",
        "**TEXT:**\n",
        "> Halo semua, namaku Andy Joe. Kemarin smartphoneku mendapat SMS tagihan Pinjaman Online dari nomor 08004398499. Selain itu emailku juga mendapatkan pesan serupa dari debtcollector@pinjolninuninu.com. Ternyata salah satu temanku menjadikan nomor telepon dan emailku sebagai penanggungjawab pinjaman onlinenya :(. Tak lama sosok pria berbadan bongsor datang ke rumahku dengan menggunakan mogenya. Ia menanyakan keberadaan temanku yang meminjam uang di perusahaan Pinjol tersebut. Aku yang tak tahu keberadaannya pun menjawab apa adanya. Tak lama kemudian pria tersebut pergi dan segera kuambil gambar mogenya dengan  plat PO 3030 AY. Setelah itu aku menghubungi temanku dan meminta penjelasan kepadanya.\n",
        ">\n",
        "---\n",
        "### Buatlah format pesan kepada teman Andy Joe untuk meminta penjelasan terkait dengan situasi yang sedang terjadi. (ganti teks yang cetak miring dan tebal menjadi nomor debtcollector, email debtcollector dan plat nomor)\n",
        ">\n",
        "\n",
        "**Format Pesan:**\n",
        "> \"*Halo xxxxx, Aku tadi habis didatangi debtcollector. Dia mengirimiku pesan lewat nomornya yaitu **nomor_debtcollector** dan email **email_debtcollector**. Dia bilang kamu jadiin nomorku dan emailku sebagai penanggungjawab. Bisa tolong jelasin? Terus aku tadi juga sempet foto motor yg dipake mas debtcollector. Plat nomornya **plat_nomor_debtcollector**.*\""
      ],
      "metadata": {
        "id": "xvvlUt1l6vu6"
      }
    },
    {
      "cell_type": "code",
      "source": [
        "import re\n",
        "\n",
        "# Pola Email, Nomor Telepon, dan Plat Nomor\n",
        "email_pattern = re.compile(r\"email_debtcollector\")\n",
        "phone_pattern = re.compile(r\"nomor_debtcollector\")\n",
        "plat_pattern = re.compile(r\"plat_nomor_debtcollector\")\n",
        "\n",
        "txt = \"\"\"Halo xxxxx, Aku tadi habis didatangi debtcollector. Dia mengirimiku pesan lewat nomornya yaitu nomor_debtcollector dan email email_debtcollector.\n",
        "Dia bilang kamu jadiin nomorku dan emailku sebagai penanggungjawab. Bisa tolong jelasin? Terus aku tadi juga sempet foto motor yg dipake mas debtcollector.\n",
        "Plat nomornya plat_nomor_debtcollector.\"\"\"\n",
        "\n",
        "# Data yang akan dimasukkan\n",
        "real_email = \"debtcollector@pinjolninuninu.com\"\n",
        "real_phone = \"08004398499\"\n",
        "real_plat = \"PO 3030 AY\"\n",
        "\n",
        "# Mengganti placeholder dengan nilai sebenarnya menggunakan replace langsung\n",
        "txt = txt.replace(\"nomor_debtcollector\", real_phone)\n",
        "txt = txt.replace(\"email_debtcollector\", real_email)\n",
        "txt = txt.replace(\"plat_nomor_debtcollector\", real_plat)\n",
        "\n",
        "# Output hasil\n",
        "print(txt)\n",
        "\n"
      ],
      "metadata": {
        "id": "nAxVR5Eulzgt",
        "outputId": "5b89df35-beb6-4a9a-8cfd-9fe73f41c2fc",
        "colab": {
          "base_uri": "https://localhost:8080/"
        }
      },
      "execution_count": 32,
      "outputs": [
        {
          "output_type": "stream",
          "name": "stdout",
          "text": [
            "Halo xxxxx, Aku tadi habis didatangi debtcollector. Dia mengirimiku pesan lewat nomornya yaitu 08004398499 dan email debtcollector@pinjolninuninu.com.\n",
            "Dia bilang kamu jadiin nomorku dan emailku sebagai penanggungjawab. Bisa tolong jelasin? Terus aku tadi juga sempet foto motor yg dipake mas debtcollector.\n",
            "Plat nomornya plat_08004398499.\n"
          ]
        }
      ]
    },
    {
      "cell_type": "markdown",
      "source": [
        "## Self-Activity 2\n",
        "1. Buat Webscraping dan Crawling dari website berbeda selain warstek\n",
        "2. lakukan RegEx dari hasil Scraping\n",
        "3. visualisasikan kedalam dataframe dari hasil webscraping dan crawling\n",
        "4. Buat Data JSON untuk Chatbot resep makanan khas daerah teman-teman"
      ],
      "metadata": {
        "id": "JXuTglwVH1FC"
      }
    },
    {
      "cell_type": "code",
      "source": [
        "import requests\n",
        "from bs4 import BeautifulSoup\n",
        "\n",
        "# Mengambil konten dari halaman utama\n",
        "url = \"https://www.kompas.com/\"\n",
        "response = requests.get(url)\n",
        "soup = BeautifulSoup(response.text, \"html.parser\")\n",
        "\n",
        "# Menyimpan data judul berita dari halaman utama\n",
        "articles = []\n",
        "for item in soup.find_all(\"h3\", class_=\"article__title\"):\n",
        "    title = item.get_text(strip=True)\n",
        "    link = item.find(\"a\")[\"href\"]\n",
        "    articles.append({\"title\": title, \"link\": link})\n",
        "\n",
        "# Menampilkan hasil scraping\n",
        "for article in articles[:5]:  # Menampilkan 5 berita pertama\n",
        "    print(article)\n"
      ],
      "metadata": {
        "id": "otv3T1NU6UJM",
        "outputId": "661e83c6-c390-44d1-d4aa-d1184f1de41b",
        "colab": {
          "base_uri": "https://localhost:8080/"
        }
      },
      "execution_count": 33,
      "outputs": [
        {
          "output_type": "stream",
          "name": "stdout",
          "text": [
            "{'title': 'UI Tangguhkan Kelulusan Doktornya, Ini Respons Bahlil', 'link': 'https://www.kgnow.com/watch/1785914/ui-tangguhkan-kelulusan-doktornya-ini-respons-bahlil?source=KOMPASCOM&position=wp_terkini__player_1'}\n",
            "{'title': 'Momen Gibran Minta Maaf Telat Acara Persekutuan Gereja-gereja gegara Bagi-bagi Susu', 'link': 'https://www.kgnow.com/watch/1785747/momen-gibran-minta-maaf-telat-acara-persekutuan-gereja-gereja-gegara-bagi-bagi-susu?source=KOMPASCOM&position=wp_terkini__player_2'}\n",
            "{'title': 'Status Tersangka Gubernur Kalsel Sahbirin Noor Dicabut, Bagaimana Kelanjutan Kasusnya di KPK?', 'link': 'https://www.kgnow.com/watch/1785682/status-tersangka-gubernur-kalsel-sahbirin-noor-dicabut-bagaimana-kelanjutan-kasusnya-di-kpk?source=KOMPASCOM&position=wp_terkini__player_2'}\n"
          ]
        }
      ]
    },
    {
      "cell_type": "code",
      "source": [
        "import re\n",
        "\n",
        "# Filter berita yang mengandung kata \"Teknologi\"\n",
        "technology_articles = [article for article in articles if re.search(r\"\\bTeknologi\\b\", article[\"title\"], re.IGNORECASE)]\n",
        "\n",
        "print(\"Berita tentang Teknologi:\")\n",
        "for article in technology_articles:\n",
        "    print(article)\n"
      ],
      "metadata": {
        "id": "hhxZXXFNrWOi",
        "outputId": "414c5545-345a-47f8-f352-afafdaad6da9",
        "colab": {
          "base_uri": "https://localhost:8080/"
        }
      },
      "execution_count": 34,
      "outputs": [
        {
          "output_type": "stream",
          "name": "stdout",
          "text": [
            "Berita tentang Teknologi:\n"
          ]
        }
      ]
    },
    {
      "cell_type": "code",
      "source": [
        "import pandas as pd\n",
        "\n",
        "# Membuat DataFrame dari data artikel\n",
        "df_articles = pd.DataFrame(articles)\n",
        "print(df_articles.head())\n"
      ],
      "metadata": {
        "id": "Kt3PurHCrYoN",
        "outputId": "62aa6381-0247-415a-e8c3-5fa74316b5cb",
        "colab": {
          "base_uri": "https://localhost:8080/"
        }
      },
      "execution_count": 35,
      "outputs": [
        {
          "output_type": "stream",
          "name": "stdout",
          "text": [
            "                                               title  \\\n",
            "0  UI Tangguhkan Kelulusan Doktornya, Ini Respons...   \n",
            "1  Momen Gibran Minta Maaf Telat Acara Persekutua...   \n",
            "2  Status Tersangka Gubernur Kalsel Sahbirin Noor...   \n",
            "\n",
            "                                                link  \n",
            "0  https://www.kgnow.com/watch/1785914/ui-tangguh...  \n",
            "1  https://www.kgnow.com/watch/1785747/momen-gibr...  \n",
            "2  https://www.kgnow.com/watch/1785682/status-ter...  \n"
          ]
        }
      ]
    },
    {
      "cell_type": "code",
      "source": [
        "{\n",
        "  \"resep\": [\n",
        "    {\n",
        "      \"nama\": \"Rendang\",\n",
        "      \"asal\": \"Sumatera Barat\",\n",
        "      \"bahan\": [\n",
        "        \"Daging sapi\",\n",
        "        \"Santan\",\n",
        "        \"Cabai\",\n",
        "        \"Bawang merah\",\n",
        "        \"Bawang putih\",\n",
        "        \"Serai\",\n",
        "        \"Lengkuas\",\n",
        "        \"Jahe\",\n",
        "        \"Garam\",\n",
        "        \"Gula merah\"\n",
        "      ],\n",
        "      \"cara_masak\": [\n",
        "        \"Haluskan bumbu-bumbu.\",\n",
        "        \"Tumis bumbu hingga harum.\",\n",
        "        \"Masukkan daging dan santan, masak dengan api kecil.\",\n",
        "        \"Aduk terus hingga bumbu meresap dan kuah mengering.\"\n",
        "      ],\n",
        "      \"waktu_masak\": \"4-5 jam\"\n",
        "    },\n",
        "    {\n",
        "      \"nama\": \"Pempek\",\n",
        "      \"asal\": \"Palembang\",\n",
        "      \"bahan\": [\n",
        "        \"Ikan tenggiri\",\n",
        "        \"Tepung sagu\",\n",
        "        \"Telur\",\n",
        "        \"Garam\",\n",
        "        \"Gula\",\n",
        "        \"Air\",\n",
        "        \"Cuka\"\n",
        "      ],\n",
        "      \"cara_masak\": [\n",
        "        \"Campur ikan dan tepung.\",\n",
        "        \"Bentuk adonan, rebus hingga matang.\",\n",
        "        \"Goreng jika ingin lebih renyah.\",\n",
        "        \"Sajikan dengan kuah cuka.\"\n",
        "      ],\n",
        "      \"waktu_masak\": \"1 jam\"\n",
        "    }\n",
        "  ]\n",
        "}\n"
      ],
      "metadata": {
        "id": "JpUqXChZra9I",
        "outputId": "862d0703-8560-46c7-a73b-5445b9685d3c",
        "colab": {
          "base_uri": "https://localhost:8080/"
        }
      },
      "execution_count": 36,
      "outputs": [
        {
          "output_type": "execute_result",
          "data": {
            "text/plain": [
              "{'resep': [{'nama': 'Rendang',\n",
              "   'asal': 'Sumatera Barat',\n",
              "   'bahan': ['Daging sapi',\n",
              "    'Santan',\n",
              "    'Cabai',\n",
              "    'Bawang merah',\n",
              "    'Bawang putih',\n",
              "    'Serai',\n",
              "    'Lengkuas',\n",
              "    'Jahe',\n",
              "    'Garam',\n",
              "    'Gula merah'],\n",
              "   'cara_masak': ['Haluskan bumbu-bumbu.',\n",
              "    'Tumis bumbu hingga harum.',\n",
              "    'Masukkan daging dan santan, masak dengan api kecil.',\n",
              "    'Aduk terus hingga bumbu meresap dan kuah mengering.'],\n",
              "   'waktu_masak': '4-5 jam'},\n",
              "  {'nama': 'Pempek',\n",
              "   'asal': 'Palembang',\n",
              "   'bahan': ['Ikan tenggiri',\n",
              "    'Tepung sagu',\n",
              "    'Telur',\n",
              "    'Garam',\n",
              "    'Gula',\n",
              "    'Air',\n",
              "    'Cuka'],\n",
              "   'cara_masak': ['Campur ikan dan tepung.',\n",
              "    'Bentuk adonan, rebus hingga matang.',\n",
              "    'Goreng jika ingin lebih renyah.',\n",
              "    'Sajikan dengan kuah cuka.'],\n",
              "   'waktu_masak': '1 jam'}]}"
            ]
          },
          "metadata": {},
          "execution_count": 36
        }
      ]
    },
    {
      "cell_type": "code",
      "source": [
        "import json\n",
        "\n",
        "# Struktur data JSON\n",
        "data = {\n",
        "    \"resep\": [\n",
        "        {\n",
        "            \"nama\": \"Rendang\",\n",
        "            \"asal\": \"Sumatera Barat\",\n",
        "            \"bahan\": [\"Daging sapi\", \"Santan\", \"Cabai\", \"Bawang merah\", \"Bawang putih\", \"Serai\", \"Lengkuas\", \"Jahe\", \"Garam\", \"Gula merah\"],\n",
        "            \"cara_masak\": [\n",
        "                \"Haluskan bumbu-bumbu.\",\n",
        "                \"Tumis bumbu hingga harum.\",\n",
        "                \"Masukkan daging dan santan, masak dengan api kecil.\",\n",
        "                \"Aduk terus hingga bumbu meresap dan kuah mengering.\"\n",
        "            ],\n",
        "            \"waktu_masak\": \"4-5 jam\"\n",
        "        }\n",
        "    ]\n",
        "}\n",
        "\n",
        "# Menyimpan data ke file JSON\n",
        "with open(\"resep_makanan.json\", \"w\") as json_file:\n",
        "    json.dump(data, json_file, indent=4)\n",
        "\n",
        "print(\"Data resep berhasil disimpan dalam format JSON.\")\n"
      ],
      "metadata": {
        "id": "H3I8Etuyrc8U",
        "outputId": "f82b8708-0cbb-4db4-f42b-38773c352674",
        "colab": {
          "base_uri": "https://localhost:8080/"
        }
      },
      "execution_count": 37,
      "outputs": [
        {
          "output_type": "stream",
          "name": "stdout",
          "text": [
            "Data resep berhasil disimpan dalam format JSON.\n"
          ]
        }
      ]
    }
  ]
}